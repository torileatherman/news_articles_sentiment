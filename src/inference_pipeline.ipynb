{
 "cells": [
  {
   "attachments": {},
   "cell_type": "markdown",
   "metadata": {},
   "source": [
    "# Inference Pipeline\n",
    "\n",
    "TODO"
   ]
  },
  {
   "attachments": {},
   "cell_type": "markdown",
   "metadata": {},
   "source": [
    "### Imports"
   ]
  },
  {
   "cell_type": "code",
   "execution_count": null,
   "metadata": {},
   "outputs": [],
   "source": [
    "import pandas as pd\n",
    "import hopsworks\n",
    "import joblib\n",
    "import datetime\n",
    "from PIL import Image\n",
    "from datetime import datetime\n",
    "from sklearn.metrics import confusion_matrix\n",
    "from matplotlib import pyplot\n",
    "import seaborn as sns\n",
    "import requests"
   ]
  },
  {
   "attachments": {},
   "cell_type": "markdown",
   "metadata": {},
   "source": [
    "### Connect to Hopsworks"
   ]
  },
  {
   "cell_type": "code",
   "execution_count": null,
   "metadata": {},
   "outputs": [],
   "source": [
    "project = hopsworks.login()\n",
    "fs = project.get_feature_store()\n",
    "\n",
    "mr = project.get_model_registry()\n",
    "model = mr.get_model(\"headlines_sentiment_model\", version=1)\n",
    "model_dir = model.download()\n",
    "model = joblib.load(model_dir + \"/headlines_sentiment_model.pkl\")"
   ]
  },
  {
   "attachments": {},
   "cell_type": "markdown",
   "metadata": {},
   "source": [
    "### Get data \n",
    "1. As embeddings or \n",
    "1. As strings and preprocess "
   ]
  },
  {
   "cell_type": "code",
   "execution_count": null,
   "metadata": {},
   "outputs": [],
   "source": [
    "# CALL API to get headline"
   ]
  },
  {
   "cell_type": "code",
   "execution_count": null,
   "metadata": {},
   "outputs": [],
   "source": [
    "def preprocess_string(text: str):\n",
    "    #TODO maybe write method in helper function \n",
    "    "
   ]
  },
  {
   "cell_type": "code",
   "execution_count": null,
   "metadata": {},
   "outputs": [],
   "source": [
    "# Call hopsworks to get data\n",
    "feature_view = fs.get_feature_view(name=\"headlines_sentiment_fg\", version=1)\n",
    "batch_data = feature_view.get_batch_data()"
   ]
  },
  {
   "attachments": {},
   "cell_type": "markdown",
   "metadata": {},
   "source": [
    "### Predict "
   ]
  },
  {
   "cell_type": "code",
   "execution_count": null,
   "metadata": {},
   "outputs": [],
   "source": [
    "y_pred = model.predict(batch_data)\n",
    "print(y_pred)\n",
    "\n",
    "# Upload prediction TODO\n",
    "dataset_api = project.get_dataset_api()    \n",
    "dataset_api.upload(\"./latest_iris.png\", \"Resources/images\", overwrite=True)\n",
    "\n",
    "iris_fg = fs.get_feature_group(name=\"iris_modal\", version=1)\n",
    "df = iris_fg.read() \n",
    "#print(df)\n",
    "label = df.iloc[-offset][\"variety\"]\n",
    "label_url = \"https://raw.githubusercontent.com/featurestoreorg/serverless-ml-course/main/src/01-module/assets/\" + label + \".png\"\n",
    "print(\"Flower actual: \" + label)\n",
    "img = Image.open(requests.get(label_url, stream=True).raw)            \n",
    "img.save(\"./actual_iris.png\")\n",
    "dataset_api.upload(\"./actual_iris.png\", \"Resources/images\", overwrite=True)\n",
    "\n",
    "monitor_fg = fs.get_or_create_feature_group(name=\"iris_predictions\",\n",
    "                                            version=1,\n",
    "                                            primary_key=[\"datetime\"],\n",
    "                                            description=\"Iris flower Prediction/Outcome Monitoring\"\n",
    "                                            )\n",
    "\n",
    "now = datetime.now().strftime(\"%m/%d/%Y, %H:%M:%S\")\n",
    "data = {\n",
    "    'prediction': [flower],\n",
    "    'label': [label],\n",
    "    'datetime': [now],\n",
    "    }\n",
    "monitor_df = pd.DataFrame(data)\n",
    "monitor_fg.insert(monitor_df, write_options={\"wait_for_job\" : False})\n",
    "\n",
    "history_df = monitor_fg.read()\n",
    "# Add our prediction to the history, as the history_df won't have it - \n",
    "# the insertion was done asynchronously, so it will take ~1 min to land on App\n",
    "history_df = pd.concat([history_df, monitor_df])\n",
    "\n",
    "\n",
    "df_recent = history_df.tail(4)\n",
    "dfi.export(df_recent, './df_recent.png', table_conversion = 'matplotlib')\n",
    "dataset_api.upload(\"./df_recent.png\", \"Resources/images\", overwrite=True)\n",
    "\n",
    "predictions = history_df[['prediction']]\n",
    "labels = history_df[['label']]\n",
    "\n",
    "# Only create the confusion matrix when our iris_predictions feature group has examples of all 3 iris flowers\n",
    "print(\"Number of different flower predictions to date: \" + str(predictions.value_counts().count()))\n",
    "if predictions.value_counts().count() == 3:\n",
    "    results = confusion_matrix(labels, predictions)\n",
    "\n",
    "    df_cm = pd.DataFrame(results, ['True Setosa', 'True Versicolor', 'True Virginica'],\n",
    "                            ['Pred Setosa', 'Pred Versicolor', 'Pred Virginica'])\n",
    "\n",
    "    cm = sns.heatmap(df_cm, annot=True)\n",
    "    fig = cm.get_figure()\n",
    "    fig.savefig(\"./confusion_matrix.png\")\n",
    "    dataset_api.upload(\"./confusion_matrix.png\", \"Resources/images\", overwrite=True)\n",
    "else:\n",
    "    print(\"You need 3 different flower predictions to create the confusion matrix.\")\n",
    "    print(\"Run the batch inference pipeline more times until you get 3 different iris flower predictions\") \n"
   ]
  }
 ],
 "metadata": {
  "kernelspec": {
   "display_name": ".venv",
   "language": "python",
   "name": "python3"
  },
  "language_info": {
   "name": "python",
   "version": "3.9.6 (default, Aug  5 2022, 15:21:02) \n[Clang 14.0.0 (clang-1400.0.29.102)]"
  },
  "orig_nbformat": 4,
  "vscode": {
   "interpreter": {
    "hash": "0df7331e7e812bfddd28e2aa81560e32bf86a4e5b79f907d6511c0dce318c93d"
   }
  }
 },
 "nbformat": 4,
 "nbformat_minor": 2
}
