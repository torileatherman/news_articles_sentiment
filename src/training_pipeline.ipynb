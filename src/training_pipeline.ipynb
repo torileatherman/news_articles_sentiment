{
 "cells": [
  {
   "attachments": {},
   "cell_type": "markdown",
   "metadata": {},
   "source": [
    "# Training Pipeline\n",
    "\n",
    "We choose LSTM as a classification model \n"
   ]
  },
  {
   "attachments": {},
   "cell_type": "markdown",
   "metadata": {},
   "source": [
    "### Imports & Load data"
   ]
  },
  {
   "cell_type": "code",
   "execution_count": 36,
   "metadata": {},
   "outputs": [],
   "source": [
    "import numpy as np\n",
    "import pandas as pd\n",
    "from sklearn.model_selection import train_test_split\n",
    "from sklearn.metrics import classification_report\n",
    "\n",
    "from tensorflow.keras.layers import Embedding, Dropout\n",
    "from tensorflow.keras.preprocessing.sequence import pad_sequences\n",
    "from tensorflow.keras.models import Sequential\n",
    "from tensorflow.keras.preprocessing.text import one_hot\n",
    "from tensorflow.keras.layers import LSTM\n",
    "import torch \n",
    "from tensorflow.keras.layers import Dense\n",
    "from sklearn.model_selection import train_test_split\n",
    "import joblib\n",
    "from hsml.schema import Schema\n",
    "from hsml.model_schema import ModelSchema"
   ]
  },
  {
   "cell_type": "code",
   "execution_count": 3,
   "metadata": {},
   "outputs": [],
   "source": [
    "# parameters\n",
    "max_len = 60 \n",
    "\n",
    "voc_size = 5000"
   ]
  },
  {
   "attachments": {},
   "cell_type": "markdown",
   "metadata": {},
   "source": [
    "### Connect to Hopsworks"
   ]
  },
  {
   "cell_type": "code",
   "execution_count": 4,
   "metadata": {},
   "outputs": [
    {
     "name": "stdout",
     "output_type": "stream",
     "text": [
      "Copy your Api Key (first register/login): https://c.app.hopsworks.ai/account/api/generated\n",
      "Connected. Call `.close()` to terminate connection gracefully.\n",
      "\n",
      "Logged in to project, explore it here https://c.app.hopsworks.ai:443/p/5321\n"
     ]
    },
    {
     "name": "stderr",
     "output_type": "stream",
     "text": [
      "DeprecationWarning: the imp module is deprecated in favour of importlib; see the module's documentation for alternative uses\n"
     ]
    },
    {
     "name": "stdout",
     "output_type": "stream",
     "text": [
      "Connected. Call `.close()` to terminate connection gracefully.\n"
     ]
    }
   ],
   "source": [
    "import hopsworks\n",
    "\n",
    "project = hopsworks.login() \n",
    "\n",
    "fs = project.get_feature_store() "
   ]
  },
  {
   "cell_type": "code",
   "execution_count": 5,
   "metadata": {},
   "outputs": [
    {
     "name": "stdout",
     "output_type": "stream",
     "text": [
      "Feature view created successfully, explore it at \n",
      "https://c.app.hopsworks.ai:443/p/5321/fs/5241/fv/headlines_sentiment_fg/version/2\n"
     ]
    }
   ],
   "source": [
    "try: \n",
    "    feature_view = fs.get_feature_view(\n",
    "    name = 'headlines_sentiment_fg',\n",
    "    version = 2)\n",
    "except:\n",
    "    feature_group= fs.get_feature_group(name = 'headlines_sentiment_fg', version=3)\n",
    "    query = feature_group.select_all()\n",
    "    feature_view = fs.create_feature_view(name = 'headlines_sentiment_fg', \n",
    "                                        version=2,\n",
    "                                        labels=[\"sentiment\"],\n",
    "                                        query=query)"
   ]
  },
  {
   "cell_type": "code",
   "execution_count": 67,
   "metadata": {},
   "outputs": [
    {
     "name": "stdout",
     "output_type": "stream",
     "text": [
      "2023-01-09 12:07:21,563 INFO: USE `torileatherman_featurestore`\n",
      "2023-01-09 12:07:22,074 INFO: SELECT `fg0`.`sentiment` `sentiment`, `fg0`.`headline` `headline`\n",
      "FROM `torileatherman_featurestore`.`headlines_sentiment_fg_3` `fg0`\n"
     ]
    },
    {
     "name": "stderr",
     "output_type": "stream",
     "text": [
      "UserWarning: pandas only supports SQLAlchemy connectable (engine/connection) or database string URI or sqlite3 DBAPI2 connection. Other DBAPI2 objects are not tested. Please consider using SQLAlchemy.\n",
      "VersionWarning: Incremented version to `4`.\n"
     ]
    }
   ],
   "source": [
    "X_train, X_test, y_train, y_test = feature_view.train_test_split(0.2)\n"
   ]
  },
  {
   "cell_type": "code",
   "execution_count": 39,
   "metadata": {},
   "outputs": [],
   "source": [
    "X_train['headline'] = X_train['headline'].apply(lambda x: np.fromstring(x.replace('[','').replace(']',''), dtype=int, sep=',').tolist())\n",
    "X_test['headline'] = X_test['headline'].apply(lambda x: np.fromstring(x.replace('[','').replace(']',''), dtype=int, sep=',').tolist())\n",
    "X_train = X_train['headline'].to_list()\n",
    "X_test = X_test['headline'].to_list()\n",
    "y_train = y_train['sentiment'].to_list()\n",
    "y_test = y_test['sentiment'].to_list()"
   ]
  },
  {
   "attachments": {},
   "cell_type": "markdown",
   "metadata": {},
   "source": [
    "## LSTM Model"
   ]
  },
  {
   "cell_type": "code",
   "execution_count": 22,
   "metadata": {},
   "outputs": [],
   "source": [
    "embedding_vector_features=40\n",
    "\n",
    "model=Sequential()\n",
    "model.add(Embedding(voc_size,embedding_vector_features,input_length = max_len))\n",
    "model.add(Dropout(0.5))\n",
    "model.add(LSTM(200))\n",
    "model.add(Dropout(0.5))\n",
    "model.add(Dense(1,activation='sigmoid'))\n",
    "model.compile(loss='binary_crossentropy',optimizer='adam',metrics=['accuracy'])"
   ]
  },
  {
   "cell_type": "code",
   "execution_count": 48,
   "metadata": {},
   "outputs": [
    {
     "name": "stdout",
     "output_type": "stream",
     "text": [
      "Epoch 1/10\n",
      "282/282 [==============================] - 92s 325ms/step - loss: 0.3221 - accuracy: 0.3494 - val_loss: 0.3472 - val_accuracy: 0.3450\n",
      "Epoch 2/10\n",
      "282/282 [==============================] - 92s 325ms/step - loss: 0.3181 - accuracy: 0.3536 - val_loss: 0.3591 - val_accuracy: 0.3395\n",
      "Epoch 3/10\n",
      "282/282 [==============================] - 50s 176ms/step - loss: 0.3250 - accuracy: 0.3466 - val_loss: 0.3632 - val_accuracy: 0.3395\n",
      "Epoch 4/10\n",
      "282/282 [==============================] - 51s 180ms/step - loss: 0.3257 - accuracy: 0.3468 - val_loss: 0.3604 - val_accuracy: 0.3395\n",
      "Epoch 5/10\n",
      "282/282 [==============================] - 62s 221ms/step - loss: 0.3239 - accuracy: 0.3466 - val_loss: 0.3621 - val_accuracy: 0.3395\n",
      "Epoch 6/10\n",
      "282/282 [==============================] - 54s 191ms/step - loss: 0.3273 - accuracy: 0.3466 - val_loss: 0.3603 - val_accuracy: 0.3395\n",
      "Epoch 7/10\n",
      "282/282 [==============================] - 48s 171ms/step - loss: 0.3233 - accuracy: 0.3466 - val_loss: 0.3598 - val_accuracy: 0.3395\n",
      "Epoch 8/10\n",
      "282/282 [==============================] - 54s 192ms/step - loss: 0.3254 - accuracy: 0.3466 - val_loss: 0.3659 - val_accuracy: 0.3395\n",
      "Epoch 9/10\n",
      "282/282 [==============================] - 51s 182ms/step - loss: 0.3257 - accuracy: 0.3466 - val_loss: 0.3590 - val_accuracy: 0.3395\n",
      "Epoch 10/10\n",
      "282/282 [==============================] - 47s 167ms/step - loss: 0.3240 - accuracy: 0.3466 - val_loss: 0.3591 - val_accuracy: 0.3395\n"
     ]
    }
   ],
   "source": [
    "history = model.fit(X_train,y_train,validation_data=(X_test,y_test),epochs=10,batch_size=64)"
   ]
  },
  {
   "cell_type": "code",
   "execution_count": 68,
   "metadata": {},
   "outputs": [],
   "source": [
    "history1 = history\n",
    "acc = history1.history['accuracy'][-1]"
   ]
  },
  {
   "cell_type": "code",
   "execution_count": 69,
   "metadata": {},
   "outputs": [
    {
     "name": "stdout",
     "output_type": "stream",
     "text": [
      "Connected. Call `.close()` to terminate connection gracefully.\n"
     ]
    }
   ],
   "source": [
    "mr = project.get_model_registry()\n",
    "\n",
    "model_dir=\"headlines_sentiment_model\"\n",
    "if os.path.isdir(model_dir) == False:\n",
    "    os.mkdir(model_dir)"
   ]
  },
  {
   "cell_type": "code",
   "execution_count": 70,
   "metadata": {},
   "outputs": [
    {
     "name": "stdout",
     "output_type": "stream",
     "text": [
      "Keras weights file (<HDF5 file \"variables.h5\" (mode r+)>) saving:\n",
      "...layers\n",
      "......dense\n",
      ".........vars\n",
      "............0\n",
      "............1\n",
      "......dropout\n",
      ".........vars\n",
      "......dropout_1\n",
      ".........vars\n",
      "......embedding\n",
      ".........vars\n",
      "............0\n",
      "......lstm\n",
      ".........cell\n",
      "............vars\n",
      "...............0\n",
      "...............1\n",
      "...............2\n",
      ".........vars\n",
      "...metrics\n",
      "......mean\n",
      ".........vars\n",
      "............0\n",
      "............1\n",
      "......mean_metric_wrapper\n",
      ".........vars\n",
      "............0\n",
      "............1\n",
      "...optimizer\n",
      "......vars\n",
      ".........0\n",
      ".........1\n",
      ".........10\n",
      ".........11\n",
      ".........12\n",
      ".........2\n",
      ".........3\n",
      ".........4\n",
      ".........5\n",
      ".........6\n",
      ".........7\n",
      ".........8\n",
      ".........9\n",
      "...vars\n",
      "Keras model archive saving:\n",
      "File Name                                             Modified             Size\n",
      "config.json                                    2023-01-09 12:07:36         2503\n",
      "metadata.json                                  2023-01-09 12:07:36           64\n",
      "variables.h5                                   2023-01-09 12:07:37      4745328\n"
     ]
    },
    {
     "data": {
      "text/plain": [
       "['headlines_sentiment_model/headlines_sentiment_model.pkl']"
      ]
     },
     "execution_count": 70,
     "metadata": {},
     "output_type": "execute_result"
    }
   ],
   "source": [
    "joblib.dump(model, model_dir + \"/headlines_sentiment_model.pkl\")\n"
   ]
  },
  {
   "cell_type": "code",
   "execution_count": 71,
   "metadata": {},
   "outputs": [],
   "source": [
    "input_schema = Schema(X_train)\n",
    "output_schema = Schema(y_train)\n",
    "model_schema = ModelSchema(input_schema, output_schema)"
   ]
  },
  {
   "cell_type": "code",
   "execution_count": 72,
   "metadata": {},
   "outputs": [],
   "source": [
    "headlines_sentiment_model = mr.python.create_model(\n",
    "        name = \"headlines_sentiment_model\", \n",
    "        metrics = {\"accuracy\": acc},\n",
    "        model_schema=model_schema,\n",
    "        description=\"Predicting Sentiment of Headlines\"\n",
    "    )\n"
   ]
  },
  {
   "cell_type": "code",
   "execution_count": 73,
   "metadata": {},
   "outputs": [
    {
     "data": {
      "application/vnd.jupyter.widget-view+json": {
       "model_id": "8ab7d0ae0b594efe98e51d8b9f5387e8",
       "version_major": 2,
       "version_minor": 0
      },
      "text/plain": [
       "  0%|          | 0/6 [00:00<?, ?it/s]"
      ]
     },
     "metadata": {},
     "output_type": "display_data"
    },
    {
     "name": "stdout",
     "output_type": "stream",
     "text": [
      "Model created, explore it at https://c.app.hopsworks.ai:443/p/5321/models/headlines_sentiment_model/3\n"
     ]
    },
    {
     "data": {
      "text/plain": [
       "Model(name: 'headlines_sentiment_model', version: 3)"
      ]
     },
     "execution_count": 73,
     "metadata": {},
     "output_type": "execute_result"
    }
   ],
   "source": [
    "headlines_sentiment_model.save(model_dir)\n"
   ]
  }
 ],
 "metadata": {
  "kernelspec": {
   "display_name": "Python 3.8.9 ('.venv': venv)",
   "language": "python",
   "name": "python3"
  },
  "language_info": {
   "codemirror_mode": {
    "name": "ipython",
    "version": 3
   },
   "file_extension": ".py",
   "mimetype": "text/x-python",
   "name": "python",
   "nbconvert_exporter": "python",
   "pygments_lexer": "ipython3",
   "version": "3.8.9"
  },
  "orig_nbformat": 4,
  "vscode": {
   "interpreter": {
    "hash": "88cf0b9956f47715b2e9c5665ed59c21bcaaf43e7c7b35220cd69262c4bb76dc"
   }
  }
 },
 "nbformat": 4,
 "nbformat_minor": 2
}
