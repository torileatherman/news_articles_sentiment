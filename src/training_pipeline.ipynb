{
 "cells": [
  {
   "attachments": {},
   "cell_type": "markdown",
   "metadata": {},
   "source": [
    "# Training Pipeline\n",
    "\n",
    "We choose LSTM as a classification model \n"
   ]
  },
  {
   "attachments": {},
   "cell_type": "markdown",
   "metadata": {},
   "source": [
    "### Imports & Load data"
   ]
  },
  {
   "cell_type": "code",
   "execution_count": 56,
   "metadata": {},
   "outputs": [],
   "source": [
    "import numpy as np\n",
    "import pandas as pd\n",
    "from sklearn.model_selection import train_test_split\n",
    "\n",
    "from tensorflow.keras.layers import Embedding, Dropout\n",
    "from tensorflow.keras.preprocessing.sequence import pad_sequences\n",
    "from tensorflow.keras.models import Sequential\n",
    "from tensorflow.keras.preprocessing.text import one_hot\n",
    "from tensorflow.keras.layers import LSTM\n",
    "import torch \n",
    "from tensorflow.keras.layers import Dense\n",
    "from sklearn.model_selection import train_test_split"
   ]
  },
  {
   "cell_type": "code",
   "execution_count": 6,
   "metadata": {},
   "outputs": [],
   "source": [
    "# parameters\n",
    "max_len = 60 \n",
    "\n",
    "voc_size = 5000"
   ]
  },
  {
   "attachments": {},
   "cell_type": "markdown",
   "metadata": {},
   "source": [
    "### Connect to Hopsworks"
   ]
  },
  {
   "cell_type": "code",
   "execution_count": 17,
   "metadata": {},
   "outputs": [
    {
     "name": "stdout",
     "output_type": "stream",
     "text": [
      "Connected. Call `.close()` to terminate connection gracefully.\n",
      "\n",
      "Logged in to project, explore it here https://c.app.hopsworks.ai:443/p/5322\n"
     ]
    },
    {
     "name": "stderr",
     "output_type": "stream",
     "text": [
      "DeprecationWarning: the imp module is deprecated in favour of importlib; see the module's documentation for alternative uses\n"
     ]
    },
    {
     "name": "stdout",
     "output_type": "stream",
     "text": [
      "Connected. Call `.close()` to terminate connection gracefully.\n"
     ]
    }
   ],
   "source": [
    "import hopsworks\n",
    "\n",
    "project = hopsworks.login() \n",
    "\n",
    "fs = project.get_feature_store() "
   ]
  },
  {
   "cell_type": "code",
   "execution_count": 19,
   "metadata": {},
   "outputs": [
    {
     "name": "stdout",
     "output_type": "stream",
     "text": [
      "Feature view created successfully, explore it at \n",
      "https://c.app.hopsworks.ai:443/p/5322/fs/5242/fv/headlines_sentiment_fg/version/2\n"
     ]
    }
   ],
   "source": [
    "try: \n",
    "    feature_view = fs.get_feature_view(\n",
    "    name = 'headlines_sentiment_fg',\n",
    "    version = 2)\n",
    "except:\n",
    "    feature_group= fs.get_feature_group(name = 'headlines_sentiment_fg', version=2)\n",
    "    query = feature_group.select_all()\n",
    "    feature_view = fs.create_feature_view(name = 'headlines_sentiment_fg', \n",
    "                                        version=2,\n",
    "                                        labels=[\"sentiment\"],\n",
    "                                        query=query)"
   ]
  },
  {
   "cell_type": "code",
   "execution_count": 112,
   "metadata": {},
   "outputs": [
    {
     "name": "stdout",
     "output_type": "stream",
     "text": [
      "2023-01-08 21:06:09,738 INFO: USE `evaengel_featurestore`\n",
      "2023-01-08 21:06:10,599 INFO: SELECT `fg0`.`sentiment` `sentiment`, `fg0`.`headline` `headline`\n",
      "FROM `evaengel_featurestore`.`headlines_sentiment_fg_2` `fg0`\n"
     ]
    },
    {
     "name": "stderr",
     "output_type": "stream",
     "text": [
      "UserWarning: pandas only supports SQLAlchemy connectable (engine/connection) or database string URI or sqlite3 DBAPI2 connection. Other DBAPI2 objects are not tested. Please consider using SQLAlchemy.\n",
      "VersionWarning: Incremented version to `7`.\n"
     ]
    }
   ],
   "source": [
    "X_train, X_test, y_train, y_test = feature_view.train_test_split(0.2)\n"
   ]
  },
  {
   "cell_type": "code",
   "execution_count": 114,
   "metadata": {},
   "outputs": [],
   "source": [
    "X_train['headline'] = X_train['headline'].apply(lambda x: np.fromstring(x.replace('[','').replace(']',''), dtype=int, sep=',').tolist())\n",
    "X_test['headline'] = X_test['headline'].apply(lambda x: np.fromstring(x.replace('[','').replace(']',''), dtype=int, sep=',').tolist())\n",
    "X_train = X_train['headline'].to_list()\n",
    "X_test = X_test['headline'].to_list()"
   ]
  },
  {
   "cell_type": "code",
   "execution_count": 117,
   "metadata": {},
   "outputs": [],
   "source": []
  },
  {
   "attachments": {},
   "cell_type": "markdown",
   "metadata": {},
   "source": [
    "## LSTM Model"
   ]
  },
  {
   "cell_type": "code",
   "execution_count": 120,
   "metadata": {},
   "outputs": [],
   "source": [
    "embedding_vector_features=40\n",
    "\n",
    "model=Sequential()\n",
    "model.add(Embedding(voc_size,embedding_vector_features,input_length = max_len))\n",
    "model.add(Dropout(0.5))\n",
    "model.add(LSTM(200))\n",
    "model.add(Dropout(0.5))\n",
    "model.add(Dense(1,activation='sigmoid'))\n",
    "model.compile(loss='binary_crossentropy',optimizer='adam',metrics=['accuracy'])"
   ]
  },
  {
   "cell_type": "code",
   "execution_count": 121,
   "metadata": {},
   "outputs": [
    {
     "name": "stdout",
     "output_type": "stream",
     "text": [
      "Epoch 1/10\n",
      "141/141 [==============================] - 28s 166ms/step - loss: 0.3806 - accuracy: 0.3449 - val_loss: 0.2719 - val_accuracy: 0.3478\n",
      "Epoch 2/10\n",
      "141/141 [==============================] - 22s 158ms/step - loss: 0.3482 - accuracy: 0.3445 - val_loss: 0.2796 - val_accuracy: 0.3478\n",
      "Epoch 3/10\n",
      "141/141 [==============================] - 21s 148ms/step - loss: 0.3517 - accuracy: 0.3445 - val_loss: 0.2901 - val_accuracy: 0.3478\n",
      "Epoch 4/10\n",
      "141/141 [==============================] - 24s 170ms/step - loss: 0.3483 - accuracy: 0.3445 - val_loss: 0.2724 - val_accuracy: 0.3478\n",
      "Epoch 5/10\n",
      "141/141 [==============================] - 20s 141ms/step - loss: 0.3399 - accuracy: 0.3445 - val_loss: 0.2727 - val_accuracy: 0.3478\n",
      "Epoch 6/10\n",
      "141/141 [==============================] - 20s 139ms/step - loss: 0.3525 - accuracy: 0.3445 - val_loss: 0.2801 - val_accuracy: 0.3478\n",
      "Epoch 7/10\n",
      "141/141 [==============================] - 19s 134ms/step - loss: 0.3470 - accuracy: 0.3445 - val_loss: 0.2787 - val_accuracy: 0.3478\n",
      "Epoch 8/10\n",
      "141/141 [==============================] - 19s 136ms/step - loss: 0.3471 - accuracy: 0.3445 - val_loss: 0.2776 - val_accuracy: 0.3478\n",
      "Epoch 9/10\n",
      "141/141 [==============================] - 21s 149ms/step - loss: 0.3450 - accuracy: 0.3445 - val_loss: 0.2754 - val_accuracy: 0.3478\n",
      "Epoch 10/10\n",
      "141/141 [==============================] - 20s 141ms/step - loss: 0.3444 - accuracy: 0.3445 - val_loss: 0.2723 - val_accuracy: 0.3478\n"
     ]
    },
    {
     "data": {
      "text/plain": [
       "<keras.callbacks.History at 0x1408bc7c0>"
      ]
     },
     "execution_count": 121,
     "metadata": {},
     "output_type": "execute_result"
    }
   ],
   "source": [
    "model.fit(X_train,y_train,validation_data=(X_test,y_test),epochs=10,batch_size=64)"
   ]
  },
  {
   "cell_type": "code",
   "execution_count": null,
   "metadata": {},
   "outputs": [],
   "source": []
  }
 ],
 "metadata": {
  "kernelspec": {
   "display_name": ".venv",
   "language": "python",
   "name": "python3"
  },
  "language_info": {
   "codemirror_mode": {
    "name": "ipython",
    "version": 3
   },
   "file_extension": ".py",
   "mimetype": "text/x-python",
   "name": "python",
   "nbconvert_exporter": "python",
   "pygments_lexer": "ipython3",
   "version": "3.9.6"
  },
  "orig_nbformat": 4,
  "vscode": {
   "interpreter": {
    "hash": "0df7331e7e812bfddd28e2aa81560e32bf86a4e5b79f907d6511c0dce318c93d"
   }
  }
 },
 "nbformat": 4,
 "nbformat_minor": 2
}
