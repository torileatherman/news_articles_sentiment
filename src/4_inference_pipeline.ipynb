{
 "cells": [
  {
   "cell_type": "markdown",
   "metadata": {},
   "source": [
    "# Inference Pipeline"
   ]
  },
  {
   "cell_type": "markdown",
   "metadata": {},
   "source": [
    "### Imports"
   ]
  },
  {
   "cell_type": "code",
   "execution_count": 100,
   "metadata": {},
   "outputs": [],
   "source": [
    "import pandas as pd\n",
    "import hopsworks\n",
    "import joblib\n",
    "from datetime import datetime\n",
    "import requests\n",
    "import numpy as np\n",
    "from huggingface_hub import notebook_login\n",
    "from datasets import load_dataset, Dataset\n",
    "from sklearn import preprocessing as p"
   ]
  },
  {
   "cell_type": "markdown",
   "metadata": {},
   "source": [
    "### Connect to Hopsworks and download model"
   ]
  },
  {
   "cell_type": "code",
   "execution_count": 101,
   "metadata": {},
   "outputs": [
    {
     "name": "stdout",
     "output_type": "stream",
     "text": [
      "Connection closed.\n",
      "Connected. Call `.close()` to terminate connection gracefully.\n",
      "\n",
      "Logged in to project, explore it here https://c.app.hopsworks.ai:443/p/5322\n",
      "Connected. Call `.close()` to terminate connection gracefully.\n",
      "Connected. Call `.close()` to terminate connection gracefully.\n"
     ]
    }
   ],
   "source": [
    "project = hopsworks.login()\n",
    "fs = project.get_feature_store()\n",
    "mr = project.get_model_registry()"
   ]
  },
  {
   "cell_type": "markdown",
   "metadata": {},
   "source": [
    "### Load LSTM Model from Hopsworks"
   ]
  },
  {
   "cell_type": "code",
   "execution_count": 102,
   "metadata": {},
   "outputs": [
    {
     "name": "stdout",
     "output_type": "stream",
     "text": [
      "Downloading file ... Keras model archive loading:\n",
      "File Name                                             Modified             Size\n",
      "config.json                                    2023-01-13 17:01:14         2508\n",
      "metadata.json                                  2023-01-13 17:01:14           64\n",
      "variables.h5                                   2023-01-13 17:01:14      4751728\n",
      "Keras weights file (<HDF5 file \"variables.h5\" (mode r)>) loading:\n",
      "...layers\n",
      "......dense\n",
      ".........vars\n",
      "............0\n",
      "............1\n",
      "......dropout\n",
      ".........vars\n",
      "......dropout_1\n",
      ".........vars\n",
      "......embedding\n",
      ".........vars\n",
      "............0\n",
      "......lstm\n",
      ".........cell\n",
      "............vars\n",
      "...............0\n",
      "...............1\n",
      "...............2\n",
      ".........vars\n",
      "...metrics\n",
      "......mean\n",
      ".........vars\n",
      "............0\n",
      "............1\n",
      "......mean_metric_wrapper\n",
      ".........vars\n",
      "............0\n",
      "............1\n",
      "...optimizer\n",
      "......vars\n",
      ".........0\n",
      ".........1\n",
      ".........10\n",
      ".........11\n",
      ".........12\n",
      ".........2\n",
      ".........3\n",
      ".........4\n",
      ".........5\n",
      ".........6\n",
      ".........7\n",
      ".........8\n",
      ".........9\n",
      "...vars\n",
      "Model: \"sequential_6\"\n",
      "_________________________________________________________________\n",
      " Layer (type)                Output Shape              Param #   \n",
      "=================================================================\n",
      " embedding_6 (Embedding)     (None, 60, 40)            200000    \n",
      "                                                                 \n",
      " dropout_6 (Dropout)         (None, 60, 40)            0         \n",
      "                                                                 \n",
      " lstm_5 (LSTM)               (None, 200)               192800    \n",
      "                                                                 \n",
      " dropout_7 (Dropout)         (None, 200)               0         \n",
      "                                                                 \n",
      " dense_5 (Dense)             (None, 3)                 603       \n",
      "                                                                 \n",
      "=================================================================\n",
      "Total params: 393,403\n",
      "Trainable params: 393,403\n",
      "Non-trainable params: 0\n",
      "_________________________________________________________________\n",
      "None\n"
     ]
    }
   ],
   "source": [
    "model = mr.get_model(\"headlines_sentiment_model\", version=4)\n",
    "model_dir = model.download()\n",
    "model = joblib.load(model_dir + \"/headlines_sentiment_model.pkl\")\n",
    "print(model.summary())"
   ]
  },
  {
   "cell_type": "markdown",
   "metadata": {},
   "source": [
    "### Connect and load batch data from HuggingFace"
   ]
  },
  {
   "cell_type": "code",
   "execution_count": 103,
   "metadata": {},
   "outputs": [
    {
     "data": {
      "application/vnd.jupyter.widget-view+json": {
       "model_id": "760521ec07144eca8ad7b6d0a907d05c",
       "version_major": 2,
       "version_minor": 0
      },
      "text/plain": [
       "VBox(children=(HTML(value='<center> <img\\nsrc=https://huggingface.co/front/assets/huggingface_logo-noborder.sv…"
      ]
     },
     "metadata": {},
     "output_type": "display_data"
    },
    {
     "name": "stdout",
     "output_type": "stream",
     "text": [
      "2023-01-14 21:05:28,801 WARNING: Using custom data configuration eengel7--sentiment_analysis_batch-8e979c99a41eb6a9\n",
      "2023-01-14 21:05:28,871 WARNING: Found cached dataset parquet (/Users/evaengel/.cache/huggingface/datasets/eengel7___parquet/eengel7--sentiment_analysis_batch-8e979c99a41eb6a9/0.0.0/2a3b91fbd88a2c90d1dbbb32b460cf621d31bd5b05b934492fdef7d8d6f236ec)\n"
     ]
    }
   ],
   "source": [
    "notebook_login()\n",
    "\n",
    "# Load scraped batch data from HuggingFace\n",
    "batch_data = load_dataset(\"eengel7/sentiment_analysis_batch\",split='train')\n",
    "batch_data = pd.DataFrame(data=batch_data)"
   ]
  },
  {
   "cell_type": "markdown",
   "metadata": {},
   "source": [
    "### Predict sentiment of batch data"
   ]
  },
  {
   "cell_type": "code",
   "execution_count": 104,
   "metadata": {},
   "outputs": [
    {
     "name": "stdout",
     "output_type": "stream",
     "text": [
      "1/1 [==============================] - 2s 2s/step\n"
     ]
    }
   ],
   "source": [
    "# Get classification probability for every label\n",
    "y_predictions = model.predict(batch_data['Headline'].to_list())"
   ]
  },
  {
   "cell_type": "code",
   "execution_count": 97,
   "metadata": {},
   "outputs": [],
   "source": [
    "batch_data['Prediction'] = y_predictions.argmax(axis=1)"
   ]
  },
  {
   "cell_type": "code",
   "execution_count": 113,
   "metadata": {},
   "outputs": [],
   "source": [
    "# Sort batch data depending on classification confidence\n",
    "\n",
    "batch_data['Confidence'] = np.amax(y_predictions, axis=1)\n",
    "batch_data = batch_data.sort_values('Confidence', ascending=False)"
   ]
  },
  {
   "cell_type": "markdown",
   "metadata": {},
   "source": [
    "### Reconstruct dataframe and upload"
   ]
  },
  {
   "cell_type": "code",
   "execution_count": 99,
   "metadata": {},
   "outputs": [
    {
     "data": {
      "application/vnd.jupyter.widget-view+json": {
       "model_id": "d3b5a619175a40379e623e8b7a6331ad",
       "version_major": 2,
       "version_minor": 0
      },
      "text/plain": [
       "Pushing dataset shards to the dataset hub:   0%|          | 0/1 [00:00<?, ?it/s]"
      ]
     },
     "metadata": {},
     "output_type": "display_data"
    },
    {
     "data": {
      "application/vnd.jupyter.widget-view+json": {
       "model_id": "baeb6faa8cbc42fcac999ab66940430e",
       "version_major": 2,
       "version_minor": 0
      },
      "text/plain": [
       "Downloading metadata:   0%|          | 0.00/28.0 [00:00<?, ?B/s]"
      ]
     },
     "metadata": {},
     "output_type": "display_data"
    },
    {
     "ename": "StopIteration",
     "evalue": "",
     "output_type": "error",
     "traceback": [
      "\u001b[0;31m---------------------------------------------------------------------------\u001b[0m",
      "\u001b[0;31mStopIteration\u001b[0m                             Traceback (most recent call last)",
      "Cell \u001b[0;32mIn[99], line 3\u001b[0m\n\u001b[1;32m      1\u001b[0m \u001b[39m# Upload to HuggingFace\u001b[39;00m\n\u001b[1;32m      2\u001b[0m batch_predictions_dataset \u001b[39m=\u001b[39m Dataset\u001b[39m.\u001b[39mfrom_pandas(batch_data)\n\u001b[0;32m----> 3\u001b[0m batch_predictions_dataset\u001b[39m.\u001b[39;49mpush_to_hub(\u001b[39m\"\u001b[39;49m\u001b[39meengel7/sentiment_analysis_batch_predictions\u001b[39;49m\u001b[39m\"\u001b[39;49m)\n",
      "File \u001b[0;32m~/news_articles_sentiment/.venv/lib/python3.9/site-packages/datasets/arrow_dataset.py:4966\u001b[0m, in \u001b[0;36mDataset.push_to_hub\u001b[0;34m(self, repo_id, split, private, token, branch, max_shard_size, num_shards, shard_size, embed_external_files)\u001b[0m\n\u001b[1;32m   4964\u001b[0m     dataset_metadata \u001b[39m=\u001b[39m DatasetMetadata\u001b[39m.\u001b[39mfrom_readme(Path(dataset_readme_path))\n\u001b[1;32m   4965\u001b[0m     dataset_infos: DatasetInfosDict \u001b[39m=\u001b[39m DatasetInfosDict\u001b[39m.\u001b[39mfrom_metadata(dataset_metadata)\n\u001b[0;32m-> 4966\u001b[0m     repo_info \u001b[39m=\u001b[39m dataset_infos[\u001b[39mnext\u001b[39;49m(\u001b[39miter\u001b[39;49m(dataset_infos))]\n\u001b[1;32m   4967\u001b[0m \u001b[39m# get the deprecated dataset_infos.json to uodate them\u001b[39;00m\n\u001b[1;32m   4968\u001b[0m \u001b[39melif\u001b[39;00m config\u001b[39m.\u001b[39mDATASETDICT_INFOS_FILENAME \u001b[39min\u001b[39;00m repo_files:\n",
      "\u001b[0;31mStopIteration\u001b[0m: "
     ]
    }
   ],
   "source": [
    "# Upload to HuggingFace\n",
    "batch_predictions_dataset = Dataset.from_pandas(batch_data)\n",
    "batch_predictions_dataset.push_to_hub(\"eengel7/sentiment_analysis_batch_predictions\")"
   ]
  }
 ],
 "metadata": {
  "kernelspec": {
   "display_name": ".venv",
   "language": "python",
   "name": "python3"
  },
  "language_info": {
   "codemirror_mode": {
    "name": "ipython",
    "version": 3
   },
   "file_extension": ".py",
   "mimetype": "text/x-python",
   "name": "python",
   "nbconvert_exporter": "python",
   "pygments_lexer": "ipython3",
   "version": "3.9.6"
  },
  "orig_nbformat": 4,
  "vscode": {
   "interpreter": {
    "hash": "0df7331e7e812bfddd28e2aa81560e32bf86a4e5b79f907d6511c0dce318c93d"
   }
  }
 },
 "nbformat": 4,
 "nbformat_minor": 2
}
