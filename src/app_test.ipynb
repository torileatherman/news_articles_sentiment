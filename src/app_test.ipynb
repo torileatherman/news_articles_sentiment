{
 "cells": [
  {
   "cell_type": "code",
   "execution_count": 1,
   "metadata": {},
   "outputs": [
    {
     "name": "stderr",
     "output_type": "stream",
     "text": [
      "2023-01-13 16:41:01.636819: I tensorflow/core/platform/cpu_feature_guard.cc:193] This TensorFlow binary is optimized with oneAPI Deep Neural Network Library (oneDNN) to use the following CPU instructions in performance-critical operations:  AVX2 FMA\n",
      "To enable them in other operations, rebuild TensorFlow with the appropriate compiler flags.\n",
      "DeprecationWarning: `np.bool8` is a deprecated alias for `np.bool_`.  (Deprecated NumPy 1.24)\n",
      "DeprecationWarning: `np.bool8` is a deprecated alias for `np.bool_`.  (Deprecated NumPy 1.24)\n"
     ]
    }
   ],
   "source": [
    "import pandas as pd\n",
    "import hopsworks\n",
    "import joblib\n",
    "import datetime \n",
    "from PIL import Image\n",
    "from datetime import datetime\n",
    "from sklearn.metrics import confusion_matrix\n",
    "from matplotlib import pyplot\n",
    "from keras.utils import pad_sequences\n",
    "import requests\n",
    "import numpy as np\n",
    "import datasets\n",
    "from datasets import Dataset\n",
    "\n",
    "from newsapi import NewsApiClient"
   ]
  },
  {
   "cell_type": "code",
   "execution_count": 31,
   "metadata": {},
   "outputs": [
    {
     "data": {
      "application/vnd.jupyter.widget-view+json": {
       "model_id": "aeaca354624f4f5abe5705f242cf7179",
       "version_major": 2,
       "version_minor": 0
      },
      "text/plain": [
       "VBox(children=(HTML(value='<center> <img\\nsrc=https://huggingface.co/front/assets/huggingface_logo-noborder.sv…"
      ]
     },
     "metadata": {},
     "output_type": "display_data"
    },
    {
     "name": "stdout",
     "output_type": "stream",
     "text": [
      "2023-01-13 18:16:23,723 WARNING: Using custom data configuration torileatherman--sentiment_analysis_batch_predictions-81e433067a7a8365\n",
      "2023-01-13 18:16:23,751 WARNING: Found cached dataset parquet (/Users/torileatherman/.cache/huggingface/datasets/torileatherman___parquet/torileatherman--sentiment_analysis_batch_predictions-81e433067a7a8365/0.0.0/2a3b91fbd88a2c90d1dbbb32b460cf621d31bd5b05b934492fdef7d8d6f236ec)\n"
     ]
    }
   ],
   "source": [
    "from huggingface_hub import notebook_login\n",
    "notebook_login()\n",
    "\n",
    "from datasets import load_dataset, DatasetDict\n",
    "\n",
    "dataset = load_dataset(\"torileatherman/sentiment_analysis_batch_predictions\", split='train')\n",
    "predictions_df = pd.DataFrame(dataset)\n",
    "predictions_df_url0 = predictions_df['Url'].iloc[0]"
   ]
  },
  {
   "cell_type": "code",
   "execution_count": 12,
   "metadata": {},
   "outputs": [
    {
     "data": {
      "text/plain": [
       "'http://www.bbc.co.uk/news/world-us-canada-64257449'"
      ]
     },
     "execution_count": 12,
     "metadata": {},
     "output_type": "execute_result"
    }
   ],
   "source": [
    "predictions_df_url0"
   ]
  },
  {
   "cell_type": "code",
   "execution_count": 7,
   "metadata": {},
   "outputs": [],
   "source": [
    "grouped_predictions = predictions_df.groupby(predictions_df.Sentiment)\n",
    "positive_preds = grouped_predictions.get_group(2)\n",
    "neutral_preds = grouped_predictions.get_group(1)\n",
    "negative_preds = grouped_predictions.get_group(0)\n",
    "\n",
    "\n",
    "def article_selection(sentiment):\n",
    "    if sentiment == \"Positive\":\n",
    "        predictions = positive_preds\n",
    "        predictions_urls = predictions['Url'][0:3]\n",
    "        return predictions_urls\n",
    "    elif sentiment == \"Negative\":\n",
    "        predictions = negative_preds\n",
    "        predictions_urls = predictions['Url'][0:3]\n",
    "        return predictions_urls\n",
    "    else:\n",
    "        predictions = neutral_preds\n",
    "        predictions_urls = predictions['Url'][0:3]\n",
    "        return predictions_urls"
   ]
  },
  {
   "cell_type": "code",
   "execution_count": 47,
   "metadata": {},
   "outputs": [
    {
     "data": {
      "text/plain": [
       "0    http://www.bbc.co.uk/news/world-us-canada-6425...\n",
       "1    http://www.bbc.co.uk/news/world-us-canada-6425...\n",
       "2    http://www.bbc.co.uk/news/uk-england-mancheste...\n",
       "Name: Url, dtype: object"
      ]
     },
     "execution_count": 47,
     "metadata": {},
     "output_type": "execute_result"
    }
   ],
   "source": [
    "predictions = negative_preds\n",
    "predictions_urls = predictions['Url'][0:3]\n",
    "predictions_urls"
   ]
  },
  {
   "cell_type": "code",
   "execution_count": 52,
   "metadata": {},
   "outputs": [
    {
     "data": {
      "text/html": [
       "<div>\n",
       "<style scoped>\n",
       "    .dataframe tbody tr th:only-of-type {\n",
       "        vertical-align: middle;\n",
       "    }\n",
       "\n",
       "    .dataframe tbody tr th {\n",
       "        vertical-align: top;\n",
       "    }\n",
       "\n",
       "    .dataframe thead th {\n",
       "        text-align: right;\n",
       "    }\n",
       "</style>\n",
       "<table border=\"1\" class=\"dataframe\">\n",
       "  <thead>\n",
       "    <tr style=\"text-align: right;\">\n",
       "      <th></th>\n",
       "      <th>Headline_string</th>\n",
       "      <th>URL</th>\n",
       "    </tr>\n",
       "  </thead>\n",
       "  <tbody>\n",
       "    <tr>\n",
       "      <th>0</th>\n",
       "      <td>California’s homeless battle floods and storms</td>\n",
       "      <td>http://www.bbc.co.uk/news/world-us-canada-6425...</td>\n",
       "    </tr>\n",
       "    <tr>\n",
       "      <th>1</th>\n",
       "      <td>Two-month gap in telling public may haunt Biden</td>\n",
       "      <td>http://www.bbc.co.uk/news/world-us-canada-6425...</td>\n",
       "    </tr>\n",
       "    <tr>\n",
       "      <th>2</th>\n",
       "      <td>Benjamin Mendy found not guilty of six counts ...</td>\n",
       "      <td>http://www.bbc.co.uk/news/uk-england-mancheste...</td>\n",
       "    </tr>\n",
       "  </tbody>\n",
       "</table>\n",
       "</div>"
      ],
      "text/plain": [
       "                                     Headline_string  \\\n",
       "0     California’s homeless battle floods and storms   \n",
       "1    Two-month gap in telling public may haunt Biden   \n",
       "2  Benjamin Mendy found not guilty of six counts ...   \n",
       "\n",
       "                                                 URL  \n",
       "0  http://www.bbc.co.uk/news/world-us-canada-6425...  \n",
       "1  http://www.bbc.co.uk/news/world-us-canada-6425...  \n",
       "2  http://www.bbc.co.uk/news/uk-england-mancheste...  "
      ]
     },
     "execution_count": 52,
     "metadata": {},
     "output_type": "execute_result"
    }
   ],
   "source": [
    "top3 = predictions[0:3]\n",
    "top3_result = top3[['Headline_string','Url']]\n",
    "top3_result.rename(columns = {'Headline_str':'Headlines', 'Url':'URL'})"
   ]
  },
  {
   "cell_type": "code",
   "execution_count": null,
   "metadata": {},
   "outputs": [],
   "source": []
  }
 ],
 "metadata": {
  "kernelspec": {
   "display_name": "Python 3.8.9 ('.venv': venv)",
   "language": "python",
   "name": "python3"
  },
  "language_info": {
   "codemirror_mode": {
    "name": "ipython",
    "version": 3
   },
   "file_extension": ".py",
   "mimetype": "text/x-python",
   "name": "python",
   "nbconvert_exporter": "python",
   "pygments_lexer": "ipython3",
   "version": "3.8.9"
  },
  "orig_nbformat": 4,
  "vscode": {
   "interpreter": {
    "hash": "88cf0b9956f47715b2e9c5665ed59c21bcaaf43e7c7b35220cd69262c4bb76dc"
   }
  }
 },
 "nbformat": 4,
 "nbformat_minor": 2
}
