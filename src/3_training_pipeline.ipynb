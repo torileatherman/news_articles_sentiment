{
 "cells": [
  {
   "attachments": {},
   "cell_type": "markdown",
   "metadata": {},
   "source": [
    "# Training Pipeline\n",
    "\n",
    "We choose LSTM as a classification model \n"
   ]
  },
  {
   "attachments": {},
   "cell_type": "markdown",
   "metadata": {},
   "source": [
    "### Imports"
   ]
  },
  {
   "cell_type": "code",
   "execution_count": 8,
   "metadata": {},
   "outputs": [],
   "source": [
    "import os\n",
    "\n",
    "import joblib\n",
    "import numpy as np\n",
    "import pandas as pd\n",
    "from datasets import load_dataset\n",
    "from hsml.model_schema import ModelSchema\n",
    "from hsml.schema import Schema\n",
    "from huggingface_hub import notebook_login\n",
    "from sklearn.model_selection import train_test_split\n",
    "from tensorflow.keras.layers import LSTM, Dense, Dropout, Embedding\n",
    "from tensorflow.keras.models import Sequential"
   ]
  },
  {
   "attachments": {},
   "cell_type": "markdown",
   "metadata": {},
   "source": [
    "### Connect to Hopsworks & Huggingface"
   ]
  },
  {
   "cell_type": "code",
   "execution_count": 70,
   "metadata": {},
   "outputs": [
    {
     "name": "stdout",
     "output_type": "stream",
     "text": [
      "Connected. Call `.close()` to terminate connection gracefully.\n",
      "\n",
      "Logged in to project, explore it here https://c.app.hopsworks.ai:443/p/5322\n"
     ]
    },
    {
     "name": "stderr",
     "output_type": "stream",
     "text": [
      "DeprecationWarning: the imp module is deprecated in favour of importlib; see the module's documentation for alternative uses\n"
     ]
    },
    {
     "name": "stdout",
     "output_type": "stream",
     "text": [
      "Connected. Call `.close()` to terminate connection gracefully.\n"
     ]
    }
   ],
   "source": [
    "import hopsworks\n",
    "\n",
    "project = hopsworks.login() \n",
    "\n",
    "fs = project.get_feature_store() "
   ]
  },
  {
   "cell_type": "code",
   "execution_count": null,
   "metadata": {},
   "outputs": [],
   "source": [
    "notebook_login()"
   ]
  },
  {
   "attachments": {},
   "cell_type": "markdown",
   "metadata": {},
   "source": [
    "## Load Data from Huggingface"
   ]
  },
  {
   "cell_type": "code",
   "execution_count": 62,
   "metadata": {},
   "outputs": [
    {
     "name": "stderr",
     "output_type": "stream",
     "text": [
      "Using custom data configuration eengel7--sentiment_analysis_training-fd8af630411595dd\n",
      "Found cached dataset parquet (/Users/evaengel/.cache/huggingface/datasets/eengel7___parquet/eengel7--sentiment_analysis_training-fd8af630411595dd/0.0.0/2a3b91fbd88a2c90d1dbbb32b460cf621d31bd5b05b934492fdef7d8d6f236ec)\n"
     ]
    }
   ],
   "source": [
    "ds = load_dataset(\"eengel7/sentiment_analysis_training\", split='train')"
   ]
  },
  {
   "cell_type": "code",
   "execution_count": 75,
   "metadata": {},
   "outputs": [],
   "source": [
    "data_df = pd.DataFrame(data = ds, columns=['Sentiment',  'Headline'])\n",
    "X_train, X_test, y_train, y_test = train_test_split(data_df['Headline'], data_df['Sentiment'], test_size=0.2, random_state=42)"
   ]
  },
  {
   "cell_type": "code",
   "execution_count": 76,
   "metadata": {},
   "outputs": [],
   "source": [
    "input_schema = Schema(X_train)\n",
    "output_schema = Schema(y_train)\n",
    "model_schema = ModelSchema(input_schema, output_schema)"
   ]
  },
  {
   "cell_type": "code",
   "execution_count": 64,
   "metadata": {},
   "outputs": [],
   "source": [
    "X_train = X_train.to_list()\n",
    "X_test = X_test.to_list()\n",
    "y_train = y_train.to_list()\n",
    "y_test = y_test.to_list()"
   ]
  },
  {
   "attachments": {},
   "cell_type": "markdown",
   "metadata": {},
   "source": [
    "## LSTM Model"
   ]
  },
  {
   "cell_type": "code",
   "execution_count": 65,
   "metadata": {},
   "outputs": [],
   "source": [
    "# parameter initialization -  arbitrarily choosen\n",
    "voc_size = 5000 \n",
    "max_len = 60\n",
    "embedding_vector_features = 40"
   ]
  },
  {
   "cell_type": "code",
   "execution_count": 66,
   "metadata": {},
   "outputs": [],
   "source": [
    "model=Sequential()\n",
    "model.add(Embedding(voc_size,embedding_vector_features,input_length = max_len, mask_zero=True))\n",
    "model.add(Dropout(0.5))\n",
    "model.add(LSTM(200))\n",
    "model.add(Dropout(0.5))\n",
    "model.add(Dense(1,activation='sigmoid'))\n",
    "model.compile(loss='binary_crossentropy',optimizer='adam',metrics=['accuracy'])"
   ]
  },
  {
   "cell_type": "code",
   "execution_count": 67,
   "metadata": {},
   "outputs": [
    {
     "name": "stdout",
     "output_type": "stream",
     "text": [
      "Epoch 1/10\n",
      "144/144 [==============================] - 29s 166ms/step - loss: -1.3471 - accuracy: 0.4395 - val_loss: -2.8603 - val_accuracy: 0.5178\n",
      "Epoch 2/10\n",
      "144/144 [==============================] - 21s 144ms/step - loss: -6.0943 - accuracy: 0.5319 - val_loss: -5.6815 - val_accuracy: 0.5070\n",
      "Epoch 3/10\n",
      "144/144 [==============================] - 21s 144ms/step - loss: -12.0012 - accuracy: 0.5525 - val_loss: -9.2407 - val_accuracy: 0.5426\n",
      "Epoch 4/10\n",
      "144/144 [==============================] - 21s 147ms/step - loss: -18.1506 - accuracy: 0.5668 - val_loss: -12.1291 - val_accuracy: 0.5213\n",
      "Epoch 5/10\n",
      "144/144 [==============================] - 21s 143ms/step - loss: -23.5917 - accuracy: 0.5773 - val_loss: -15.2507 - val_accuracy: 0.5248\n",
      "Epoch 6/10\n",
      "144/144 [==============================] - 21s 143ms/step - loss: -29.5973 - accuracy: 0.5738 - val_loss: -18.4536 - val_accuracy: 0.5378\n",
      "Epoch 7/10\n",
      "144/144 [==============================] - 28s 194ms/step - loss: -34.0252 - accuracy: 0.5703 - val_loss: -18.0773 - val_accuracy: 0.5170\n",
      "Epoch 8/10\n",
      "144/144 [==============================] - 22s 150ms/step - loss: -39.8711 - accuracy: 0.5769 - val_loss: -19.5390 - val_accuracy: 0.5122\n",
      "Epoch 9/10\n",
      "144/144 [==============================] - 23s 162ms/step - loss: -46.9925 - accuracy: 0.5821 - val_loss: -24.4375 - val_accuracy: 0.5152\n",
      "Epoch 10/10\n",
      "144/144 [==============================] - 23s 159ms/step - loss: -39.6596 - accuracy: 0.5422 - val_loss: -13.4311 - val_accuracy: 0.4857\n"
     ]
    }
   ],
   "source": [
    "history = model.fit(X_train,y_train,validation_data=(X_test,y_test),epochs=10,batch_size=64)"
   ]
  },
  {
   "attachments": {},
   "cell_type": "markdown",
   "metadata": {},
   "source": [
    "## Upload the model"
   ]
  },
  {
   "cell_type": "code",
   "execution_count": 79,
   "metadata": {},
   "outputs": [
    {
     "name": "stdout",
     "output_type": "stream",
     "text": [
      "Connected. Call `.close()` to terminate connection gracefully.\n",
      "Keras weights file (<HDF5 file \"variables.h5\" (mode r+)>) saving:\n",
      "...layers\n",
      "......dense\n",
      ".........vars\n",
      "............0\n",
      "............1\n",
      "......dropout\n",
      ".........vars\n",
      "......dropout_1\n",
      ".........vars\n",
      "......embedding\n",
      ".........vars\n",
      "............0\n",
      "......lstm\n",
      ".........cell\n",
      "............vars\n",
      "...............0\n",
      "...............1\n",
      "...............2\n",
      ".........vars\n",
      "...metrics\n",
      "......mean\n",
      ".........vars\n",
      "............0\n",
      "............1\n",
      "......mean_metric_wrapper\n",
      ".........vars\n",
      "............0\n",
      "............1\n",
      "...optimizer\n",
      "......vars\n",
      ".........0\n",
      ".........1\n",
      ".........10\n",
      ".........11\n",
      ".........12\n",
      ".........2\n",
      ".........3\n",
      ".........4\n",
      ".........5\n",
      ".........6\n",
      ".........7\n",
      ".........8\n",
      ".........9\n",
      "...vars\n",
      "Keras model archive saving:\n",
      "File Name                                             Modified             Size\n",
      "config.json                                    2023-01-13 12:49:34         2502\n",
      "metadata.json                                  2023-01-13 12:49:34           64\n",
      "variables.h5                                   2023-01-13 12:49:34      4745328\n"
     ]
    },
    {
     "data": {
      "text/plain": [
       "['headlines_sentiment_model/headlines_sentiment_model.pkl']"
      ]
     },
     "execution_count": 79,
     "metadata": {},
     "output_type": "execute_result"
    }
   ],
   "source": [
    "mr = project.get_model_registry()\n",
    "\n",
    "model_dir=\"headlines_sentiment_model\"\n",
    "if os.path.isdir(model_dir) == False:\n",
    "    os.mkdir(model_dir)\n",
    "\n",
    "joblib.dump(model, model_dir + \"/headlines_sentiment_model.pkl\")"
   ]
  },
  {
   "cell_type": "code",
   "execution_count": 83,
   "metadata": {},
   "outputs": [],
   "source": [
    "history1 = history\n",
    "acc = history1.history['accuracy'][-1]\n",
    "\n",
    "headlines_sentiment_model = mr.python.create_model(\n",
    "        name = \"headlines_sentiment_model\", \n",
    "        metrics = {\"accuracy\": acc},\n",
    "        model_schema=model_schema,\n",
    "        description=\"Predicting Sentiment of Headlines\"\n",
    "    )"
   ]
  },
  {
   "cell_type": "code",
   "execution_count": 84,
   "metadata": {},
   "outputs": [
    {
     "data": {
      "application/vnd.jupyter.widget-view+json": {
       "model_id": "4a9ee164519b49e7a84ebc3fc87d2230",
       "version_major": 2,
       "version_minor": 0
      },
      "text/plain": [
       "  0%|          | 0/6 [00:00<?, ?it/s]"
      ]
     },
     "metadata": {},
     "output_type": "display_data"
    },
    {
     "name": "stdout",
     "output_type": "stream",
     "text": [
      "Model created, explore it at https://c.app.hopsworks.ai:443/p/5322/models/headlines_sentiment_model/1\n"
     ]
    },
    {
     "data": {
      "text/plain": [
       "Model(name: 'headlines_sentiment_model', version: 1)"
      ]
     },
     "execution_count": 84,
     "metadata": {},
     "output_type": "execute_result"
    }
   ],
   "source": [
    "headlines_sentiment_model.save(model_dir)\n"
   ]
  }
 ],
 "metadata": {
  "kernelspec": {
   "display_name": ".venv",
   "language": "python",
   "name": "python3"
  },
  "language_info": {
   "codemirror_mode": {
    "name": "ipython",
    "version": 3
   },
   "file_extension": ".py",
   "mimetype": "text/x-python",
   "name": "python",
   "nbconvert_exporter": "python",
   "pygments_lexer": "ipython3",
   "version": "3.9.6 (default, Aug  5 2022, 15:21:02) \n[Clang 14.0.0 (clang-1400.0.29.102)]"
  },
  "orig_nbformat": 4,
  "vscode": {
   "interpreter": {
    "hash": "0df7331e7e812bfddd28e2aa81560e32bf86a4e5b79f907d6511c0dce318c93d"
   }
  }
 },
 "nbformat": 4,
 "nbformat_minor": 2
}
