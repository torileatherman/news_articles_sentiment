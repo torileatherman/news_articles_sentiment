{
 "cells": [
  {
   "attachments": {},
   "cell_type": "markdown",
   "metadata": {},
   "source": [
    "# Training Pipeline\n",
    "\n",
    "We choose LSTM as a classification model \n"
   ]
  },
  {
   "attachments": {},
   "cell_type": "markdown",
   "metadata": {},
   "source": [
    "### Imports"
   ]
  },
  {
   "cell_type": "code",
   "execution_count": 8,
   "metadata": {},
   "outputs": [],
   "source": [
    "import os\n",
    "\n",
    "import joblib\n",
    "import numpy as np\n",
    "import pandas as pd\n",
    "import hopsworks\n",
    "from datasets import load_dataset\n",
    "from hsml.model_schema import ModelSchema\n",
    "from hsml.schema import Schema\n",
    "from huggingface_hub import notebook_login\n",
    "from sklearn.model_selection import train_test_split\n",
    "from sklearn.preprocessing import LabelEncoder\n",
    "import matplotlib as plt\n",
    "from tensorflow.keras.layers import LSTM, Dense, Dropout, Embedding\n",
    "from tensorflow.keras.models import Sequential"
   ]
  },
  {
   "attachments": {},
   "cell_type": "markdown",
   "metadata": {},
   "source": [
    "### Connect to Hopsworks, Huggingface & WandB"
   ]
  },
  {
   "cell_type": "code",
   "execution_count": 2,
   "metadata": {},
   "outputs": [
    {
     "name": "stdout",
     "output_type": "stream",
     "text": [
      "Connected. Call `.close()` to terminate connection gracefully.\n",
      "\n",
      "Logged in to project, explore it here https://c.app.hopsworks.ai:443/p/5322\n"
     ]
    },
    {
     "name": "stderr",
     "output_type": "stream",
     "text": [
      "DeprecationWarning: the imp module is deprecated in favour of importlib; see the module's documentation for alternative uses\n"
     ]
    },
    {
     "name": "stdout",
     "output_type": "stream",
     "text": [
      "Connected. Call `.close()` to terminate connection gracefully.\n"
     ]
    }
   ],
   "source": [
    "project = hopsworks.login() \n",
    "\n",
    "fs = project.get_feature_store() "
   ]
  },
  {
   "cell_type": "code",
   "execution_count": 3,
   "metadata": {},
   "outputs": [
    {
     "data": {
      "application/vnd.jupyter.widget-view+json": {
       "model_id": "2b728bfab13b4f1a8041b4145c7b24ae",
       "version_major": 2,
       "version_minor": 0
      },
      "text/plain": [
       "VBox(children=(HTML(value='<center> <img\\nsrc=https://huggingface.co/front/assets/huggingface_logo-noborder.sv…"
      ]
     },
     "metadata": {},
     "output_type": "display_data"
    }
   ],
   "source": [
    "notebook_login()"
   ]
  },
  {
   "attachments": {},
   "cell_type": "markdown",
   "metadata": {},
   "source": [
    "## Load Data from Huggingface"
   ]
  },
  {
   "cell_type": "code",
   "execution_count": 6,
   "metadata": {},
   "outputs": [
    {
     "name": "stdout",
     "output_type": "stream",
     "text": [
      "2023-01-13 17:22:43,793 WARNING: Using custom data configuration eengel7--sentiment_analysis_training-0b9cd88a291c773d\n",
      "2023-01-13 17:22:44,011 WARNING: Found cached dataset parquet (/Users/evaengel/.cache/huggingface/datasets/eengel7___parquet/eengel7--sentiment_analysis_training-0b9cd88a291c773d/0.0.0/2a3b91fbd88a2c90d1dbbb32b460cf621d31bd5b05b934492fdef7d8d6f236ec)\n"
     ]
    }
   ],
   "source": [
    "ds = load_dataset(\"eengel7/sentiment_analysis_training\", split='train')\n",
    "data_df = pd.DataFrame(data = ds, columns=['Sentiment',  'Headline'])\n",
    "y = pd.get_dummies(data_df['Sentiment'])\n",
    "\n",
    "X_train, X_test, y_train, y_test = train_test_split(pd.DataFrame(data_df['Headline'].to_list()), y, test_size=0.2, random_state=42)"
   ]
  },
  {
   "cell_type": "code",
   "execution_count": 7,
   "metadata": {},
   "outputs": [],
   "source": [
    "input_schema = Schema(X_train)\n",
    "output_schema = Schema(y_train)\n",
    "model_schema = ModelSchema(input_schema, output_schema)"
   ]
  },
  {
   "attachments": {},
   "cell_type": "markdown",
   "metadata": {},
   "source": [
    "## LSTM Model"
   ]
  },
  {
   "cell_type": "code",
   "execution_count": 49,
   "metadata": {},
   "outputs": [],
   "source": [
    "# parameter initialization -  arbitrarily choosen\n",
    "voc_size = 5000 \n",
    "max_len = 60\n",
    "embedding_vector_features = 40"
   ]
  },
  {
   "cell_type": "code",
   "execution_count": 58,
   "metadata": {},
   "outputs": [],
   "source": [
    "model=Sequential()\n",
    "model.add(Embedding(voc_size,embedding_vector_features,input_length = max_len))\n",
    "model.add(Dropout(0.5))\n",
    "model.add(LSTM(200))\n",
    "model.add(Dropout(0.5))\n",
    "model.add(Dense(3,activation='softmax'))\n",
    "model.compile(loss='categorical_crossentropy',\n",
    "            optimizer='adam',\n",
    "            metrics=['accuracy'])"
   ]
  },
  {
   "cell_type": "code",
   "execution_count": 63,
   "metadata": {},
   "outputs": [
    {
     "name": "stdout",
     "output_type": "stream",
     "text": [
      "Epoch 1/50\n",
      "144/144 [==============================] - 20s 135ms/step - loss: 0.4085 - accuracy: 0.8531 - val_loss: 1.0227 - val_accuracy: 0.6378\n",
      "Epoch 2/50\n",
      "144/144 [==============================] - 22s 150ms/step - loss: 0.3935 - accuracy: 0.8567 - val_loss: 1.0086 - val_accuracy: 0.6313\n",
      "Epoch 3/50\n",
      "144/144 [==============================] - 20s 139ms/step - loss: 0.3623 - accuracy: 0.8727 - val_loss: 1.1753 - val_accuracy: 0.6309\n",
      "Epoch 4/50\n",
      "144/144 [==============================] - 19s 131ms/step - loss: 0.3516 - accuracy: 0.8731 - val_loss: 1.2127 - val_accuracy: 0.6296\n",
      "Epoch 5/50\n",
      "144/144 [==============================] - 19s 131ms/step - loss: 0.3474 - accuracy: 0.8746 - val_loss: 1.0443 - val_accuracy: 0.6383\n",
      "Epoch 6/50\n",
      "144/144 [==============================] - 19s 132ms/step - loss: 0.3188 - accuracy: 0.8885 - val_loss: 1.0600 - val_accuracy: 0.6378\n",
      "Epoch 7/50\n",
      "144/144 [==============================] - 22s 153ms/step - loss: 0.3205 - accuracy: 0.8877 - val_loss: 1.0250 - val_accuracy: 0.6274\n",
      "Epoch 8/50\n",
      "144/144 [==============================] - 28s 193ms/step - loss: 0.3052 - accuracy: 0.8940 - val_loss: 1.2628 - val_accuracy: 0.6309\n",
      "Epoch 9/50\n",
      "144/144 [==============================] - 28s 192ms/step - loss: 0.2988 - accuracy: 0.8988 - val_loss: 1.2145 - val_accuracy: 0.6109\n",
      "Epoch 10/50\n",
      "144/144 [==============================] - 28s 196ms/step - loss: 0.2813 - accuracy: 0.9029 - val_loss: 1.3334 - val_accuracy: 0.6230\n",
      "Epoch 11/50\n",
      "144/144 [==============================] - 21s 143ms/step - loss: 0.2704 - accuracy: 0.9069 - val_loss: 1.1487 - val_accuracy: 0.6361\n",
      "Epoch 12/50\n",
      "144/144 [==============================] - 19s 132ms/step - loss: 0.2597 - accuracy: 0.9125 - val_loss: 1.3059 - val_accuracy: 0.6339\n",
      "Epoch 13/50\n",
      "144/144 [==============================] - 27s 189ms/step - loss: 0.2514 - accuracy: 0.9128 - val_loss: 1.3106 - val_accuracy: 0.6139\n",
      "Epoch 14/50\n",
      "144/144 [==============================] - 27s 185ms/step - loss: 0.2492 - accuracy: 0.9159 - val_loss: 1.2325 - val_accuracy: 0.6291\n",
      "Epoch 15/50\n",
      "144/144 [==============================] - 27s 187ms/step - loss: 0.2436 - accuracy: 0.9190 - val_loss: 1.4878 - val_accuracy: 0.6178\n",
      "Epoch 16/50\n",
      "144/144 [==============================] - 22s 150ms/step - loss: 0.2345 - accuracy: 0.9190 - val_loss: 1.3883 - val_accuracy: 0.6300\n",
      "Epoch 17/50\n",
      "144/144 [==============================] - 23s 162ms/step - loss: 0.2381 - accuracy: 0.9167 - val_loss: 1.4897 - val_accuracy: 0.6322\n",
      "Epoch 18/50\n",
      "144/144 [==============================] - 25s 172ms/step - loss: 0.2295 - accuracy: 0.9213 - val_loss: 1.5965 - val_accuracy: 0.6196\n",
      "Epoch 19/50\n",
      "144/144 [==============================] - 22s 154ms/step - loss: 0.2230 - accuracy: 0.9268 - val_loss: 1.3657 - val_accuracy: 0.6248\n",
      "Epoch 20/50\n",
      "144/144 [==============================] - 22s 156ms/step - loss: 0.2060 - accuracy: 0.9314 - val_loss: 1.4463 - val_accuracy: 0.6243\n",
      "Epoch 21/50\n",
      "144/144 [==============================] - 23s 163ms/step - loss: 0.2142 - accuracy: 0.9309 - val_loss: 1.1539 - val_accuracy: 0.6174\n",
      "Epoch 22/50\n",
      "144/144 [==============================] - 24s 166ms/step - loss: 0.2025 - accuracy: 0.9333 - val_loss: 1.4542 - val_accuracy: 0.6239\n",
      "Epoch 23/50\n",
      "144/144 [==============================] - 23s 159ms/step - loss: 0.2050 - accuracy: 0.9313 - val_loss: 1.7622 - val_accuracy: 0.6126\n",
      "Epoch 24/50\n",
      "144/144 [==============================] - 24s 165ms/step - loss: 0.1939 - accuracy: 0.9355 - val_loss: 1.2347 - val_accuracy: 0.6248\n",
      "Epoch 25/50\n",
      "144/144 [==============================] - 21s 144ms/step - loss: 0.1904 - accuracy: 0.9376 - val_loss: 1.4983 - val_accuracy: 0.6083\n",
      "Epoch 26/50\n",
      "144/144 [==============================] - 19s 134ms/step - loss: 0.1841 - accuracy: 0.9369 - val_loss: 1.4230 - val_accuracy: 0.6239\n",
      "Epoch 27/50\n",
      "144/144 [==============================] - 19s 132ms/step - loss: 0.1782 - accuracy: 0.9386 - val_loss: 1.4858 - val_accuracy: 0.6152\n",
      "Epoch 28/50\n",
      "144/144 [==============================] - 19s 131ms/step - loss: 0.1784 - accuracy: 0.9383 - val_loss: 1.4329 - val_accuracy: 0.6213\n",
      "Epoch 29/50\n",
      "144/144 [==============================] - 19s 131ms/step - loss: 0.1783 - accuracy: 0.9402 - val_loss: 1.4420 - val_accuracy: 0.6248\n",
      "Epoch 30/50\n",
      "144/144 [==============================] - 19s 130ms/step - loss: 0.1696 - accuracy: 0.9412 - val_loss: 1.7658 - val_accuracy: 0.6226\n",
      "Epoch 31/50\n",
      "144/144 [==============================] - 21s 145ms/step - loss: 0.1580 - accuracy: 0.9472 - val_loss: 1.4977 - val_accuracy: 0.6200\n",
      "Epoch 32/50\n",
      "144/144 [==============================] - 24s 164ms/step - loss: 0.1635 - accuracy: 0.9448 - val_loss: 1.7188 - val_accuracy: 0.6278\n",
      "Epoch 33/50\n",
      "144/144 [==============================] - 26s 179ms/step - loss: 0.1670 - accuracy: 0.9426 - val_loss: 1.7086 - val_accuracy: 0.6100\n",
      "Epoch 34/50\n",
      "144/144 [==============================] - 27s 187ms/step - loss: 0.1723 - accuracy: 0.9415 - val_loss: 1.1602 - val_accuracy: 0.6222\n",
      "Epoch 35/50\n",
      "144/144 [==============================] - 26s 179ms/step - loss: 0.1643 - accuracy: 0.9447 - val_loss: 1.7291 - val_accuracy: 0.6230\n",
      "Epoch 36/50\n",
      "144/144 [==============================] - 25s 175ms/step - loss: 0.1614 - accuracy: 0.9458 - val_loss: 1.6029 - val_accuracy: 0.6291\n",
      "Epoch 37/50\n",
      "144/144 [==============================] - 27s 185ms/step - loss: 0.1527 - accuracy: 0.9455 - val_loss: 1.5859 - val_accuracy: 0.6183\n",
      "Epoch 38/50\n",
      "144/144 [==============================] - 26s 181ms/step - loss: 0.1467 - accuracy: 0.9493 - val_loss: 1.8600 - val_accuracy: 0.6209\n",
      "Epoch 39/50\n",
      "144/144 [==============================] - 27s 184ms/step - loss: 0.1479 - accuracy: 0.9502 - val_loss: 1.4167 - val_accuracy: 0.6204\n",
      "Epoch 40/50\n",
      "144/144 [==============================] - 28s 192ms/step - loss: 0.1505 - accuracy: 0.9495 - val_loss: 1.5666 - val_accuracy: 0.6230\n",
      "Epoch 41/50\n",
      "144/144 [==============================] - 27s 186ms/step - loss: 0.1372 - accuracy: 0.9541 - val_loss: 1.8180 - val_accuracy: 0.6170\n",
      "Epoch 42/50\n",
      "144/144 [==============================] - 25s 177ms/step - loss: 0.1404 - accuracy: 0.9488 - val_loss: 1.8216 - val_accuracy: 0.6152\n",
      "Epoch 43/50\n",
      "144/144 [==============================] - 21s 144ms/step - loss: 0.1387 - accuracy: 0.9500 - val_loss: 1.4581 - val_accuracy: 0.6135\n",
      "Epoch 44/50\n",
      "144/144 [==============================] - 23s 163ms/step - loss: 0.1450 - accuracy: 0.9489 - val_loss: 1.3102 - val_accuracy: 0.6122\n",
      "Epoch 45/50\n",
      "144/144 [==============================] - 28s 190ms/step - loss: 0.1512 - accuracy: 0.9489 - val_loss: 1.7427 - val_accuracy: 0.6204\n",
      "Epoch 46/50\n",
      "144/144 [==============================] - 25s 173ms/step - loss: 0.1343 - accuracy: 0.9527 - val_loss: 1.6914 - val_accuracy: 0.6191\n",
      "Epoch 47/50\n",
      "144/144 [==============================] - 26s 180ms/step - loss: 0.1315 - accuracy: 0.9545 - val_loss: 1.9578 - val_accuracy: 0.6130\n",
      "Epoch 48/50\n",
      "144/144 [==============================] - 26s 182ms/step - loss: 0.1320 - accuracy: 0.9515 - val_loss: 1.6901 - val_accuracy: 0.6191\n",
      "Epoch 49/50\n",
      "144/144 [==============================] - 22s 154ms/step - loss: 0.1308 - accuracy: 0.9526 - val_loss: 1.8507 - val_accuracy: 0.6209\n",
      "Epoch 50/50\n",
      "144/144 [==============================] - 19s 132ms/step - loss: 0.1317 - accuracy: 0.9549 - val_loss: 2.1287 - val_accuracy: 0.6239\n"
     ]
    }
   ],
   "source": [
    "# Train model\n",
    "batch_size = 64\n",
    "history = model.fit(X_train, y_train,\n",
    "                      validation_data=(X_test, y_test),\n",
    "                      batch_size=batch_size, epochs= 50, verbose=1)"
   ]
  },
  {
   "cell_type": "code",
   "execution_count": 10,
   "metadata": {},
   "outputs": [
    {
     "ename": "NameError",
     "evalue": "name 'history' is not defined",
     "output_type": "error",
     "traceback": [
      "\u001b[0;31m---------------------------------------------------------------------------\u001b[0m",
      "\u001b[0;31mNameError\u001b[0m                                 Traceback (most recent call last)",
      "Cell \u001b[0;32mIn[10], line 20\u001b[0m\n\u001b[1;32m     17\u001b[0m     ax[\u001b[39m1\u001b[39m]\u001b[39m.\u001b[39mset_ylabel(\u001b[39m'\u001b[39m\u001b[39mloss\u001b[39m\u001b[39m'\u001b[39m)\n\u001b[1;32m     18\u001b[0m     ax[\u001b[39m1\u001b[39m]\u001b[39m.\u001b[39mlegend([\u001b[39m'\u001b[39m\u001b[39mtrain\u001b[39m\u001b[39m'\u001b[39m, \u001b[39m'\u001b[39m\u001b[39mvalidation\u001b[39m\u001b[39m'\u001b[39m], loc\u001b[39m=\u001b[39m\u001b[39m'\u001b[39m\u001b[39mbest\u001b[39m\u001b[39m'\u001b[39m)\n\u001b[0;32m---> 20\u001b[0m plot_training_hist(history)\n",
      "\u001b[0;31mNameError\u001b[0m: name 'history' is not defined"
     ]
    }
   ],
   "source": [
    "def plot_training_hist(history):\n",
    "    '''Function to plot history for accuracy and loss'''\n",
    "    \n",
    "    fig, ax = plt.subplots(1, 2, figsize=(10,4))\n",
    "    # first plot\n",
    "    ax[0].plot(history.history['accuracy'])\n",
    "    ax[0].plot(history.history['val_accuracy'])\n",
    "    ax[0].set_title('Model Accuracy')\n",
    "    ax[0].set_xlabel('epoch')\n",
    "    ax[0].set_ylabel('accuracy')\n",
    "    ax[0].legend(['train', 'validation'], loc='best')\n",
    "    # second plot\n",
    "    ax[1].plot(history.history['loss'])\n",
    "    ax[1].plot(history.history['val_loss'])\n",
    "    ax[1].set_title('Model Loss')\n",
    "    ax[1].set_xlabel('epoch')\n",
    "    ax[1].set_ylabel('loss')\n",
    "    ax[1].legend(['train', 'validation'], loc='best')\n",
    "def plot_training_hist(history):\n",
    "    '''Function to plot history for accuracy and loss'''\n",
    "    \n",
    "    fig, ax = plt.subplots(1, 2, figsize=(10,4))\n",
    "    # first plot\n",
    "    ax[0].plot(history.history['accuracy'])\n",
    "    ax[0].plot(history.history['val_accuracy'])\n",
    "    ax[0].set_title('Model Accuracy')\n",
    "    ax[0].set_xlabel('epoch')\n",
    "    ax[0].set_ylabel('accuracy')\n",
    "    ax[0].legend(['train', 'validation'], loc='best')\n",
    "    # second plot\n",
    "    ax[1].plot(history.history['loss'])\n",
    "    ax[1].plot(history.history['val_loss'])\n",
    "    ax[1].set_title('Model Loss')\n",
    "    ax[1].set_xlabel('epoch')\n",
    "    ax[1].set_ylabel('loss')\n",
    "    ax[1].legend(['train', 'validation'], loc='best')\n",
    "\n",
    "print(model.summary())    \n",
    "plot_training_hist(history)"
   ]
  },
  {
   "attachments": {},
   "cell_type": "markdown",
   "metadata": {},
   "source": [
    "## Upload the model"
   ]
  },
  {
   "cell_type": "code",
   "execution_count": 64,
   "metadata": {},
   "outputs": [
    {
     "name": "stdout",
     "output_type": "stream",
     "text": [
      "Connected. Call `.close()` to terminate connection gracefully.\n",
      "Keras weights file (<HDF5 file \"variables.h5\" (mode r+)>) saving:\n",
      "...layers\n",
      "......dense\n",
      ".........vars\n",
      "............0\n",
      "............1\n",
      "......dropout\n",
      ".........vars\n",
      "......dropout_1\n",
      ".........vars\n",
      "......embedding\n",
      ".........vars\n",
      "............0\n",
      "......lstm\n",
      ".........cell\n",
      "............vars\n",
      "...............0\n",
      "...............1\n",
      "...............2\n",
      ".........vars\n",
      "...metrics\n",
      "......mean\n",
      ".........vars\n",
      "............0\n",
      "............1\n",
      "......mean_metric_wrapper\n",
      ".........vars\n",
      "............0\n",
      "............1\n",
      "...optimizer\n",
      "......vars\n",
      ".........0\n",
      ".........1\n",
      ".........10\n",
      ".........11\n",
      ".........12\n",
      ".........2\n",
      ".........3\n",
      ".........4\n",
      ".........5\n",
      ".........6\n",
      ".........7\n",
      ".........8\n",
      ".........9\n",
      "...vars\n",
      "Keras model archive saving:\n",
      "File Name                                             Modified             Size\n",
      "config.json                                    2023-01-13 17:01:14         2508\n",
      "metadata.json                                  2023-01-13 17:01:14           64\n",
      "variables.h5                                   2023-01-13 17:01:14      4751728\n"
     ]
    },
    {
     "data": {
      "text/plain": [
       "['headlines_sentiment_model/headlines_sentiment_model.pkl']"
      ]
     },
     "execution_count": 64,
     "metadata": {},
     "output_type": "execute_result"
    }
   ],
   "source": [
    "mr = project.get_model_registry()\n",
    "\n",
    "model_dir=\"headlines_sentiment_model\"\n",
    "if os.path.isdir(model_dir) == False:\n",
    "    os.mkdir(model_dir)\n",
    "\n",
    "joblib.dump(model, model_dir + \"/headlines_sentiment_model.pkl\")"
   ]
  },
  {
   "cell_type": "code",
   "execution_count": 65,
   "metadata": {},
   "outputs": [],
   "source": [
    "history1 = history\n",
    "acc = history1.history['accuracy'][-1]\n",
    "\n",
    "headlines_sentiment_model = mr.python.create_model(\n",
    "        name = \"headlines_sentiment_model\", \n",
    "        metrics = {\"accuracy\": acc},\n",
    "        model_schema=model_schema,\n",
    "        description=\"Predicting Sentiment of Headlines\"\n",
    "    )"
   ]
  },
  {
   "cell_type": "code",
   "execution_count": 66,
   "metadata": {},
   "outputs": [
    {
     "data": {
      "application/vnd.jupyter.widget-view+json": {
       "model_id": "55f798fe8be64c0fbacab0fd8d180604",
       "version_major": 2,
       "version_minor": 0
      },
      "text/plain": [
       "  0%|          | 0/6 [00:00<?, ?it/s]"
      ]
     },
     "metadata": {},
     "output_type": "display_data"
    },
    {
     "name": "stdout",
     "output_type": "stream",
     "text": [
      "Model created, explore it at https://c.app.hopsworks.ai:443/p/5322/models/headlines_sentiment_model/4\n"
     ]
    },
    {
     "data": {
      "text/plain": [
       "Model(name: 'headlines_sentiment_model', version: 4)"
      ]
     },
     "execution_count": 66,
     "metadata": {},
     "output_type": "execute_result"
    }
   ],
   "source": [
    "headlines_sentiment_model.save(model_dir)"
   ]
  }
 ],
 "metadata": {
  "kernelspec": {
   "display_name": ".venv",
   "language": "python",
   "name": "python3"
  },
  "language_info": {
   "codemirror_mode": {
    "name": "ipython",
    "version": 3
   },
   "file_extension": ".py",
   "mimetype": "text/x-python",
   "name": "python",
   "nbconvert_exporter": "python",
   "pygments_lexer": "ipython3",
   "version": "3.9.6"
  },
  "orig_nbformat": 4,
  "vscode": {
   "interpreter": {
    "hash": "0df7331e7e812bfddd28e2aa81560e32bf86a4e5b79f907d6511c0dce318c93d"
   }
  }
 },
 "nbformat": 4,
 "nbformat_minor": 2
}
